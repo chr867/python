{
 "cells": [
  {
   "cell_type": "markdown",
   "id": "3b186a2e",
   "metadata": {},
   "source": [
    "## while문"
   ]
  },
  {
   "cell_type": "code",
   "execution_count": 8,
   "id": "c6d7642e",
   "metadata": {},
   "outputs": [],
   "source": [
    "num = 0"
   ]
  },
  {
   "cell_type": "code",
   "execution_count": null,
   "id": "85038da0",
   "metadata": {},
   "outputs": [],
   "source": [
    "while num != 4:\n",
    "    print(num)\n",
    "    num+=1"
   ]
  },
  {
   "cell_type": "code",
   "execution_count": 6,
   "id": "4b59c208",
   "metadata": {},
   "outputs": [
    {
     "name": "stdout",
     "output_type": "stream",
     "text": [
      "0\n",
      "1\n",
      "2\n",
      "3\n"
     ]
    }
   ],
   "source": [
    "while True:\n",
    "    print(num)\n",
    "    num+=1\n",
    "    if num == 4:\n",
    "        break"
   ]
  },
  {
   "cell_type": "code",
   "execution_count": 9,
   "id": "80eece05",
   "metadata": {},
   "outputs": [
    {
     "name": "stdout",
     "output_type": "stream",
     "text": [
      "1\n",
      "2\n",
      "3\n",
      "5\n",
      "6\n",
      "7\n",
      "8\n",
      "9\n",
      "10\n"
     ]
    }
   ],
   "source": [
    "while num != 10:\n",
    "    num+=1\n",
    "    if num == 4:\n",
    "        continue\n",
    "    print(num)"
   ]
  },
  {
   "cell_type": "markdown",
   "id": "98d1a431",
   "metadata": {},
   "source": [
    "## for문"
   ]
  },
  {
   "cell_type": "code",
   "execution_count": 6,
   "id": "8e06ae70",
   "metadata": {},
   "outputs": [
    {
     "name": "stdout",
     "output_type": "stream",
     "text": [
      "1\n",
      "2\n",
      "3\n",
      "4\n"
     ]
    }
   ],
   "source": [
    "for i in [1,2,3,4]:\n",
    "    print(i)"
   ]
  },
  {
   "cell_type": "code",
   "execution_count": 10,
   "id": "38b70d21",
   "metadata": {},
   "outputs": [
    {
     "name": "stdout",
     "output_type": "stream",
     "text": [
      "(1, 2)\n",
      "(3, 4)\n",
      "(5, 6)\n"
     ]
    }
   ],
   "source": [
    "for i in [(1,2),(3,4),(5,6)]:\n",
    "    print(i)"
   ]
  },
  {
   "cell_type": "code",
   "execution_count": 11,
   "id": "f71b903c",
   "metadata": {},
   "outputs": [
    {
     "name": "stdout",
     "output_type": "stream",
     "text": [
      "1 2\n",
      "3 4\n",
      "5 6\n"
     ]
    }
   ],
   "source": [
    "for i,j in [(1,2),(3,4),(5,6)]:\n",
    "    print(i,j)"
   ]
  },
  {
   "cell_type": "markdown",
   "id": "bff87786",
   "metadata": {},
   "source": [
    "# for문 + if문을 통해서 합격 여부\n",
    "# [90,25,67,45,80]라는 학생 5명의 점수를 for문으로 합격 여부"
   ]
  },
  {
   "cell_type": "code",
   "execution_count": 12,
   "id": "afdc4d68",
   "metadata": {},
   "outputs": [],
   "source": [
    "student = [90,25,67,45,80]"
   ]
  },
  {
   "cell_type": "code",
   "execution_count": 22,
   "id": "6f62f503",
   "metadata": {},
   "outputs": [
    {
     "name": "stdout",
     "output_type": "stream",
     "text": [
      "1번 학생은 합격\n",
      "2번 학생은 불합격\n",
      "3번 학생은 합격\n",
      "4번 학생은 불합격\n",
      "5번 학생은 합격\n"
     ]
    }
   ],
   "source": [
    "# for i in student:\n",
    "for idx,i in enumerate(student):   \n",
    "    if i >= 60:\n",
    "#         print(str(student.index(i)+1)+\"번 학생은 합격\")\n",
    "        print(f'{idx+1}번 학생은 합격')\n",
    "    else:\n",
    "#         print(str(student.index(i)+1)+\"번 학생은 불합격\")\n",
    "        print(f'{idx+1}번 학생은 불합격')\n"
   ]
  },
  {
   "cell_type": "code",
   "execution_count": 26,
   "id": "8beee327",
   "metadata": {},
   "outputs": [],
   "source": [
    "def test(a,b,c):\n",
    "    return a+b+c+5"
   ]
  },
  {
   "cell_type": "code",
   "execution_count": 27,
   "id": "be876951",
   "metadata": {},
   "outputs": [
    {
     "data": {
      "text/plain": [
       "24"
      ]
     },
     "execution_count": 27,
     "metadata": {},
     "output_type": "execute_result"
    }
   ],
   "source": [
    "test(a=10, c=5, b=4)"
   ]
  },
  {
   "cell_type": "code",
   "execution_count": 29,
   "id": "791c3e47",
   "metadata": {},
   "outputs": [],
   "source": [
    "def test2():\n",
    "    return 'hi'"
   ]
  },
  {
   "cell_type": "code",
   "execution_count": 32,
   "id": "76c0e607",
   "metadata": {},
   "outputs": [
    {
     "data": {
      "text/plain": [
       "'hi'"
      ]
     },
     "execution_count": 32,
     "metadata": {},
     "output_type": "execute_result"
    }
   ],
   "source": [
    "test2()"
   ]
  },
  {
   "cell_type": "code",
   "execution_count": 33,
   "id": "2c6d37e7",
   "metadata": {},
   "outputs": [],
   "source": [
    "def test3(*args):\n",
    "    sum_list = []\n",
    "    for i in args:\n",
    "        sum_list.append(i+3)\n",
    "    return sum_list"
   ]
  },
  {
   "cell_type": "code",
   "execution_count": 34,
   "id": "492d1fff",
   "metadata": {},
   "outputs": [
    {
     "data": {
      "text/plain": [
       "[4, 5, 6, 7]"
      ]
     },
     "execution_count": 34,
     "metadata": {},
     "output_type": "execute_result"
    }
   ],
   "source": [
    "test3(1,2,3,4)"
   ]
  },
  {
   "cell_type": "code",
   "execution_count": null,
   "id": "839839f9",
   "metadata": {},
   "outputs": [],
   "source": [
    "student = [90,25,67,45,80]\n",
    "# for i in student:\n",
    "for idx,i in enumerate(student):   \n",
    "    if i >= 60:\n",
    "#         print(str(student.index(i)+1)+\"번 학생은 합격\")\n",
    "        print(f'{idx+1}번 학생은 합격')\n",
    "    else:\n",
    "#         print(str(student.index(i)+1)+\"번 학생은 불합격\")\n",
    "        print(f'{idx+1}번 학생은 불합격')\n"
   ]
  },
  {
   "cell_type": "markdown",
   "id": "14524ec0",
   "metadata": {},
   "source": [
    "# 위 코드를 함수로 만들기\n",
    "# 한명의 점수만 넣어서 합격인지 불합격인지 리턴받는 함수 제작"
   ]
  },
  {
   "cell_type": "code",
   "execution_count": 52,
   "id": "7029685b",
   "metadata": {},
   "outputs": [],
   "source": [
    "def test4(num,line=60):\n",
    "    try:\n",
    "        if num >= line:\n",
    "            return \"합격\"\n",
    "        else:\n",
    "            return \"불합격\"\n",
    "    except:\n",
    "        return '잘못된 입력'"
   ]
  },
  {
   "cell_type": "code",
   "execution_count": 53,
   "id": "ba1059ce",
   "metadata": {},
   "outputs": [
    {
     "data": {
      "text/plain": [
       "'잘못된 입력'"
      ]
     },
     "execution_count": 53,
     "metadata": {},
     "output_type": "execute_result"
    }
   ],
   "source": [
    "test4('69',70)"
   ]
  },
  {
   "cell_type": "code",
   "execution_count": 57,
   "id": "ab8e2b7a",
   "metadata": {},
   "outputs": [],
   "source": [
    "def main():\n",
    "    print(\"안녕하세요\")\n",
    "    try:\n",
    "        age = int (input(\"나이를 입력하세요: \"))\n",
    "        print(\"입력한 나이는: \", age)\n",
    "    except ValueError:\n",
    "        print('잘못된 입력')\n",
    "        print(\"ㅂㅂ\")"
   ]
  },
  {
   "cell_type": "code",
   "execution_count": 59,
   "id": "f532a81f",
   "metadata": {},
   "outputs": [
    {
     "name": "stdout",
     "output_type": "stream",
     "text": [
      "안녕하세요\n",
      "나이를 입력하세요: ㅅㅁ\n",
      "잘못된 입력\n",
      "ㅂㅂ\n"
     ]
    }
   ],
   "source": [
    "main()"
   ]
  },
  {
   "cell_type": "code",
   "execution_count": 74,
   "id": "de62106d",
   "metadata": {},
   "outputs": [],
   "source": [
    "def main2():\n",
    "    print(\"ㅎㅇ\")\n",
    "    while True:\n",
    "        try:\n",
    "            age = int (input(\"나이를 입력하세요: \" ))\n",
    "            print(\"입력한 나이는: \", age)\n",
    "            break;\n",
    "        except ValueError:\n",
    "            print('잘못된 입력')"
   ]
  },
  {
   "cell_type": "code",
   "execution_count": 76,
   "id": "8ede22d5",
   "metadata": {},
   "outputs": [
    {
     "name": "stdout",
     "output_type": "stream",
     "text": [
      "ㅎㅇ\n",
      "나이를 입력하세요: aa\n",
      "잘못된 입력\n",
      "나이를 입력하세요: 234\n",
      "입력한 나이는:  234\n"
     ]
    }
   ],
   "source": [
    "main2()"
   ]
  },
  {
   "cell_type": "markdown",
   "id": "b7b1c1d7",
   "metadata": {},
   "source": [
    "# lambda"
   ]
  },
  {
   "cell_type": "code",
   "execution_count": 77,
   "id": "c3a81a5d",
   "metadata": {},
   "outputs": [],
   "source": [
    "def show(s):\n",
    "    print(s)"
   ]
  },
  {
   "cell_type": "code",
   "execution_count": 78,
   "id": "3b37fd5c",
   "metadata": {},
   "outputs": [
    {
     "name": "stdout",
     "output_type": "stream",
     "text": [
      "ㅎㅇ\n"
     ]
    }
   ],
   "source": [
    "show('ㅎㅇ')"
   ]
  },
  {
   "cell_type": "code",
   "execution_count": 86,
   "id": "d7b9ce11",
   "metadata": {},
   "outputs": [],
   "source": [
    "ans = lambda s: print(s)"
   ]
  },
  {
   "cell_type": "code",
   "execution_count": 87,
   "id": "a3a1629e",
   "metadata": {},
   "outputs": [
    {
     "name": "stdout",
     "output_type": "stream",
     "text": [
      "ㅎㅇ\n"
     ]
    }
   ],
   "source": [
    "ans('ㅎㅇ')"
   ]
  },
  {
   "cell_type": "code",
   "execution_count": 88,
   "id": "12af0ec4",
   "metadata": {},
   "outputs": [],
   "source": [
    "lst = ['가렌','파이크','트리스나타','카타리나']"
   ]
  },
  {
   "cell_type": "code",
   "execution_count": 89,
   "id": "0d46a416",
   "metadata": {},
   "outputs": [
    {
     "data": {
      "text/plain": [
       "['챔피언 가렌', '챔피언 파이크', '챔피언 트리스나타', '챔피언 카타리나']"
      ]
     },
     "execution_count": 89,
     "metadata": {},
     "output_type": "execute_result"
    }
   ],
   "source": [
    "list(map(lambda x: '챔피언 '+x,lst))"
   ]
  },
  {
   "cell_type": "code",
   "execution_count": 91,
   "id": "4e9bc28f",
   "metadata": {},
   "outputs": [
    {
     "data": {
      "text/plain": [
       "['파이크']"
      ]
     },
     "execution_count": 91,
     "metadata": {},
     "output_type": "execute_result"
    }
   ],
   "source": [
    "list(filter(lambda x: x if len(x)==3 else '', lst))"
   ]
  },
  {
   "cell_type": "code",
   "execution_count": 92,
   "id": "0797d3bd",
   "metadata": {},
   "outputs": [],
   "source": [
    "num_list = [1,2,3,4,5,6,7,8,9,10]"
   ]
  },
  {
   "cell_type": "code",
   "execution_count": 98,
   "id": "ddd6597b",
   "metadata": {},
   "outputs": [],
   "source": [
    "def sum_num(x):\n",
    "    return x * 2"
   ]
  },
  {
   "cell_type": "code",
   "execution_count": 95,
   "id": "8b292d80",
   "metadata": {},
   "outputs": [
    {
     "data": {
      "text/plain": [
       "[2, 4, 6, 8, 10, 12, 14, 16, 18, 20]"
      ]
     },
     "execution_count": 95,
     "metadata": {},
     "output_type": "execute_result"
    }
   ],
   "source": [
    "list(map(lambda x: x*2, num_list))"
   ]
  },
  {
   "cell_type": "code",
   "execution_count": 99,
   "id": "ae383536",
   "metadata": {},
   "outputs": [
    {
     "data": {
      "text/plain": [
       "[2, 4, 6, 8, 10, 12, 14, 16, 18, 20]"
      ]
     },
     "execution_count": 99,
     "metadata": {},
     "output_type": "execute_result"
    }
   ],
   "source": [
    "list(map(lambda x: sum_num(x), num_list))"
   ]
  },
  {
   "cell_type": "code",
   "execution_count": 97,
   "id": "0ce4e497",
   "metadata": {},
   "outputs": [
    {
     "data": {
      "text/plain": [
       "[2, 4, 6, 8, 10]"
      ]
     },
     "execution_count": 97,
     "metadata": {},
     "output_type": "execute_result"
    }
   ],
   "source": [
    "list(filter(lambda x: x if x%2 == 0 else '' ,num_list))"
   ]
  },
  {
   "cell_type": "markdown",
   "id": "973954c4",
   "metadata": {},
   "source": [
    "#  class"
   ]
  },
  {
   "cell_type": "code",
   "execution_count": 103,
   "id": "d30681f9",
   "metadata": {},
   "outputs": [],
   "source": [
    "result1 = 0\n",
    "result2 = 0"
   ]
  },
  {
   "cell_type": "code",
   "execution_count": 108,
   "id": "0754b39c",
   "metadata": {},
   "outputs": [],
   "source": [
    "def add(num):\n",
    "    global result1\n",
    "    result1 += num\n",
    "    return result1\n",
    "\n",
    "def add2(num):\n",
    "    global result2\n",
    "    result2 += num\n",
    "    return result2"
   ]
  },
  {
   "cell_type": "code",
   "execution_count": 107,
   "id": "0525fe69",
   "metadata": {},
   "outputs": [
    {
     "data": {
      "text/plain": [
       "6"
      ]
     },
     "execution_count": 107,
     "metadata": {},
     "output_type": "execute_result"
    }
   ],
   "source": [
    "add(3)"
   ]
  },
  {
   "cell_type": "code",
   "execution_count": 134,
   "id": "dd7c3a00",
   "metadata": {},
   "outputs": [],
   "source": [
    "class Calculator:\n",
    "    def __init__(self,first,second):\n",
    "        self.result = 0\n",
    "        self.first = first\n",
    "        self.second = second\n",
    "        \n",
    "    def add(self,num):\n",
    "        self.result += num\n",
    "        return self.result\n",
    "    \n",
    "    def multi(self):\n",
    "        multi = self.first * self.second\n",
    "        return multi"
   ]
  },
  {
   "cell_type": "code",
   "execution_count": 136,
   "id": "34f9d21d",
   "metadata": {},
   "outputs": [
    {
     "data": {
      "text/plain": [
       "8"
      ]
     },
     "execution_count": 136,
     "metadata": {},
     "output_type": "execute_result"
    }
   ],
   "source": [
    "Calculator(4,2).multi()"
   ]
  },
  {
   "cell_type": "code",
   "execution_count": 137,
   "id": "b450a807",
   "metadata": {},
   "outputs": [
    {
     "data": {
      "text/plain": [
       "20"
      ]
     },
     "execution_count": 137,
     "metadata": {},
     "output_type": "execute_result"
    }
   ],
   "source": [
    "Calculator(4,5).multi()"
   ]
  },
  {
   "cell_type": "code",
   "execution_count": 118,
   "id": "ceb4696a",
   "metadata": {},
   "outputs": [
    {
     "data": {
      "text/plain": [
       "15"
      ]
     },
     "execution_count": 118,
     "metadata": {},
     "output_type": "execute_result"
    }
   ],
   "source": [
    "cal1.add(4)"
   ]
  },
  {
   "cell_type": "code",
   "execution_count": 119,
   "id": "5b9ec199",
   "metadata": {},
   "outputs": [],
   "source": [
    "class MoreCalculator(Calculator):\n",
    "    def put(self,num):\n",
    "        self.result -= num\n",
    "        return self.result"
   ]
  },
  {
   "cell_type": "code",
   "execution_count": 127,
   "id": "c6102adf",
   "metadata": {},
   "outputs": [],
   "source": [
    "m_cal = MoreCalculator()"
   ]
  },
  {
   "cell_type": "code",
   "execution_count": 125,
   "id": "77b87d80",
   "metadata": {},
   "outputs": [
    {
     "data": {
      "text/plain": [
       "-9"
      ]
     },
     "execution_count": 125,
     "metadata": {},
     "output_type": "execute_result"
    }
   ],
   "source": [
    "m_cal.put(3)"
   ]
  },
  {
   "cell_type": "markdown",
   "id": "b2964fe8",
   "metadata": {},
   "source": [
    "# 파이썬 내부함수"
   ]
  },
  {
   "cell_type": "code",
   "execution_count": 144,
   "id": "bae18361",
   "metadata": {},
   "outputs": [],
   "source": [
    "a = '11'\n",
    "b = '12'"
   ]
  },
  {
   "cell_type": "code",
   "execution_count": 145,
   "id": "de8d8e6f",
   "metadata": {},
   "outputs": [
    {
     "data": {
      "text/plain": [
       "1851385631664"
      ]
     },
     "execution_count": 145,
     "metadata": {},
     "output_type": "execute_result"
    }
   ],
   "source": [
    "id(a)"
   ]
  },
  {
   "cell_type": "code",
   "execution_count": 141,
   "id": "60791366",
   "metadata": {},
   "outputs": [],
   "source": [
    "a=b"
   ]
  },
  {
   "cell_type": "code",
   "execution_count": 146,
   "id": "a4fcdb58",
   "metadata": {},
   "outputs": [
    {
     "data": {
      "text/plain": [
       "1851463708336"
      ]
     },
     "execution_count": 146,
     "metadata": {},
     "output_type": "execute_result"
    }
   ],
   "source": [
    "id(b)"
   ]
  },
  {
   "cell_type": "markdown",
   "id": "486f8eae",
   "metadata": {},
   "source": [
    "## len : list의 길이를 반환하는 함수"
   ]
  },
  {
   "cell_type": "code",
   "execution_count": 147,
   "id": "c12cade2",
   "metadata": {},
   "outputs": [],
   "source": [
    "num_list = [1,2,3,4,5,6,7,8,9]"
   ]
  },
  {
   "cell_type": "code",
   "execution_count": 150,
   "id": "6dbd8ed6",
   "metadata": {},
   "outputs": [
    {
     "name": "stdout",
     "output_type": "stream",
     "text": [
      "1\n",
      "2\n",
      "3\n",
      "4\n",
      "5\n",
      "6\n",
      "7\n",
      "8\n",
      "9\n"
     ]
    }
   ],
   "source": [
    "for i in range(len(num_list)):\n",
    "    print(num_list[i])"
   ]
  },
  {
   "cell_type": "code",
   "execution_count": 152,
   "id": "2f6d11d7",
   "metadata": {},
   "outputs": [
    {
     "data": {
      "text/plain": [
       "1"
      ]
     },
     "execution_count": 152,
     "metadata": {},
     "output_type": "execute_result"
    }
   ],
   "source": [
    "max(num_list)\n",
    "min(num_list)"
   ]
  },
  {
   "cell_type": "code",
   "execution_count": 155,
   "id": "3efa7521",
   "metadata": {},
   "outputs": [
    {
     "data": {
      "text/plain": [
       "2.34"
      ]
     },
     "execution_count": 155,
     "metadata": {},
     "output_type": "execute_result"
    }
   ],
   "source": [
    "round(2.33524,2)"
   ]
  },
  {
   "cell_type": "markdown",
   "id": "a5cd5df3",
   "metadata": {},
   "source": [
    "## zip "
   ]
  },
  {
   "cell_type": "code",
   "execution_count": 161,
   "id": "b730f416",
   "metadata": {},
   "outputs": [],
   "source": [
    "a = [1,2,3]\n",
    "b = [4,5,6,7]"
   ]
  },
  {
   "cell_type": "code",
   "execution_count": 162,
   "id": "4a21a687",
   "metadata": {},
   "outputs": [
    {
     "data": {
      "text/plain": [
       "[(1, 4), (2, 5), (3, 6)]"
      ]
     },
     "execution_count": 162,
     "metadata": {},
     "output_type": "execute_result"
    }
   ],
   "source": [
    "list(zip(a,b))"
   ]
  },
  {
   "cell_type": "code",
   "execution_count": 163,
   "id": "76d70fb6",
   "metadata": {},
   "outputs": [
    {
     "data": {
      "text/plain": [
       "[('a', 'd'), ('b', 'e'), ('c', 'f')]"
      ]
     },
     "execution_count": 163,
     "metadata": {},
     "output_type": "execute_result"
    }
   ],
   "source": [
    "list(zip('abc','def'))"
   ]
  },
  {
   "cell_type": "markdown",
   "id": "059369e6",
   "metadata": {},
   "source": [
    " # 1부터 100까지의 정수 중 짝수만 저장된 리스트를 생성 "
   ]
  },
  {
   "cell_type": "code",
   "execution_count": 305,
   "id": "aa3cf8ab",
   "metadata": {},
   "outputs": [],
   "source": [
    "even_list=[]\n",
    "for i in range(2,101,2):\n",
    "        even_list.append(i)\n"
   ]
  },
  {
   "cell_type": "code",
   "execution_count": 306,
   "id": "193b222c",
   "metadata": {},
   "outputs": [
    {
     "data": {
      "text/plain": [
       "[2,\n",
       " 4,\n",
       " 6,\n",
       " 8,\n",
       " 10,\n",
       " 12,\n",
       " 14,\n",
       " 16,\n",
       " 18,\n",
       " 20,\n",
       " 22,\n",
       " 24,\n",
       " 26,\n",
       " 28,\n",
       " 30,\n",
       " 32,\n",
       " 34,\n",
       " 36,\n",
       " 38,\n",
       " 40,\n",
       " 42,\n",
       " 44,\n",
       " 46,\n",
       " 48,\n",
       " 50,\n",
       " 52,\n",
       " 54,\n",
       " 56,\n",
       " 58,\n",
       " 60,\n",
       " 62,\n",
       " 64,\n",
       " 66,\n",
       " 68,\n",
       " 70,\n",
       " 72,\n",
       " 74,\n",
       " 76,\n",
       " 78,\n",
       " 80,\n",
       " 82,\n",
       " 84,\n",
       " 86,\n",
       " 88,\n",
       " 90,\n",
       " 92,\n",
       " 94,\n",
       " 96,\n",
       " 98,\n",
       " 100]"
      ]
     },
     "execution_count": 306,
     "metadata": {},
     "output_type": "execute_result"
    }
   ],
   "source": [
    "even_list"
   ]
  },
  {
   "cell_type": "markdown",
   "id": "1133efb9",
   "metadata": {},
   "source": [
    "\n",
    "# 1부터 50까지의 숫자 중 5의 배수만 출력(for문,print()) "
   ]
  },
  {
   "cell_type": "code",
   "execution_count": 206,
   "id": "037c2fca",
   "metadata": {},
   "outputs": [
    {
     "name": "stdout",
     "output_type": "stream",
     "text": [
      "5\n",
      "10\n",
      "15\n",
      "20\n",
      "25\n",
      "30\n",
      "35\n",
      "40\n",
      "45\n",
      "50\n"
     ]
    }
   ],
   "source": [
    "for i in range(1,51):\n",
    "    if i%5 == 0:\n",
    "        print(i)\n",
    "    else:\n",
    "        continue"
   ]
  },
  {
   "cell_type": "markdown",
   "id": "1b093288",
   "metadata": {},
   "source": [
    "# 아래와 같이 리스트의 데이터를 출력하는 코드를 작성하시오. (힌트 : for,print) "
   ]
  },
  {
   "cell_type": "code",
   "execution_count": 172,
   "id": "4d5ec603",
   "metadata": {},
   "outputs": [],
   "source": [
    "price_list = [32100, 32150, 32000, 32500]\n",
    "# 0 32100\n",
    "# 1 32150\n",
    "# 2 32000\n",
    "# 3 32500"
   ]
  },
  {
   "cell_type": "code",
   "execution_count": 174,
   "id": "a71a87c2",
   "metadata": {},
   "outputs": [
    {
     "name": "stdout",
     "output_type": "stream",
     "text": [
      "0 32100\n",
      "1 32150\n",
      "2 32000\n",
      "3 32500\n"
     ]
    }
   ],
   "source": [
    "for i in price_list:\n",
    "    print(price_list.index(i),i)"
   ]
  },
  {
   "cell_type": "code",
   "execution_count": 307,
   "id": "8f7d33d0",
   "metadata": {},
   "outputs": [
    {
     "name": "stdout",
     "output_type": "stream",
     "text": [
      "0 32100\n",
      "1 32150\n",
      "2 32000\n",
      "3 32500\n"
     ]
    }
   ],
   "source": [
    "for idx,i in enumerate(price_list):\n",
    "    print(idx,i)"
   ]
  },
  {
   "cell_type": "markdown",
   "id": "48691231",
   "metadata": {},
   "source": [
    "# 반복문을 사용하여 다음과 같이 2단에서부터 9단까지의 구구단을 딕셔너리에 저장하는 코드 key 값은 숫자 value 값은 list"
   ]
  },
  {
   "cell_type": "code",
   "execution_count": null,
   "id": "ce62afc2",
   "metadata": {},
   "outputs": [],
   "source": [
    "{2:[2,4,6....18],3:[3,6,9,12...27].........}"
   ]
  },
  {
   "cell_type": "code",
   "execution_count": 180,
   "id": "5695014d",
   "metadata": {},
   "outputs": [],
   "source": [
    "dan_list={}"
   ]
  },
  {
   "cell_type": "code",
   "execution_count": 207,
   "id": "070f6bb6",
   "metadata": {},
   "outputs": [],
   "source": [
    "for i in range (2,10):\n",
    "    dan = []\n",
    "    for j in range (1,10):\n",
    "        dan.append(i*j)\n",
    "    dan_list[i]=dan"
   ]
  },
  {
   "cell_type": "code",
   "execution_count": 208,
   "id": "7b072a4b",
   "metadata": {},
   "outputs": [
    {
     "data": {
      "text/plain": [
       "{2: [2, 4, 6, 8, 10, 12, 14, 16, 18],\n",
       " 3: [3, 6, 9, 12, 15, 18, 21, 24, 27],\n",
       " 4: [4, 8, 12, 16, 20, 24, 28, 32, 36],\n",
       " 5: [5, 10, 15, 20, 25, 30, 35, 40, 45],\n",
       " 6: [6, 12, 18, 24, 30, 36, 42, 48, 54],\n",
       " 7: [7, 14, 21, 28, 35, 42, 49, 56, 63],\n",
       " 8: [8, 16, 24, 32, 40, 48, 56, 64, 72],\n",
       " 9: [9, 18, 27, 36, 45, 54, 63, 72, 81]}"
      ]
     },
     "execution_count": 208,
     "metadata": {},
     "output_type": "execute_result"
    }
   ],
   "source": [
    "dan_list"
   ]
  },
  {
   "cell_type": "markdown",
   "id": "526aacc5",
   "metadata": {},
   "source": [
    "# 리스트에 아래의 데이터가 저장돼 있다고 가정했을때, 아래의 반복문을 이용하여 아래와 같이 출력\n",
    "# car_num = [[1011,1022], [1201,7202],[2301,1302]]"
   ]
  },
  {
   "cell_type": "code",
   "execution_count": null,
   "id": "54277319",
   "metadata": {},
   "outputs": [],
   "source": [
    "차량번호 1011\n",
    "----\n",
    "차량번호 1022"
   ]
  },
  {
   "cell_type": "code",
   "execution_count": 192,
   "id": "5d7e49ad",
   "metadata": {},
   "outputs": [],
   "source": [
    "car_num = [ [1011,1022],[1201,7202],[2301,1302]]"
   ]
  },
  {
   "cell_type": "code",
   "execution_count": 311,
   "id": "97e1a607",
   "metadata": {},
   "outputs": [
    {
     "name": "stdout",
     "output_type": "stream",
     "text": [
      "차량번호 1011\n",
      "---\n",
      "차량번호 1022\n",
      "---\n",
      "차량번호 1201\n",
      "---\n",
      "차량번호 7202\n",
      "---\n",
      "차량번호 2301\n",
      "---\n",
      "차량번호 1302\n",
      "---\n"
     ]
    }
   ],
   "source": [
    "for i in car_num:\n",
    "    for j in i:\n",
    "        print(f'차량번호 {j}')\n",
    "        print('---')"
   ]
  },
  {
   "cell_type": "code",
   "execution_count": 314,
   "id": "4b79ff23",
   "metadata": {},
   "outputs": [
    {
     "name": "stdout",
     "output_type": "stream",
     "text": [
      "차량번호 1011\n",
      "차량번호 1022\n",
      "차량번호 1201\n",
      "차량번호 7202\n",
      "차량번호 2301\n",
      "차량번호 1302\n"
     ]
    }
   ],
   "source": [
    "for i in range(3):\n",
    "    for j in range(2):\n",
    "        print(f'차량번호 {car_num[i][j]}')"
   ]
  },
  {
   "cell_type": "markdown",
   "id": "d52b5a06",
   "metadata": {},
   "source": [
    "## 주민등록번호 13자리를 문자열로 입력 받아 남성,여성 판별\n",
    "## 입력 앞자리-뒷자리\n",
    "## 반환 남성 or 여성"
   ]
  },
  {
   "cell_type": "code",
   "execution_count": 321,
   "id": "4595c71e",
   "metadata": {},
   "outputs": [],
   "source": [
    "def gender():\n",
    "    a=input('주민등록번호 입력 (- 포함): ')\n",
    "    if int(a[-7]) == 1:\n",
    "        return '남성'\n",
    "    else:\n",
    "        return '여성'"
   ]
  },
  {
   "cell_type": "code",
   "execution_count": 330,
   "id": "221bcd3e",
   "metadata": {},
   "outputs": [],
   "source": [
    "def jumin(a):\n",
    "    b = a.split('-')[1][0]\n",
    "    print(b)\n",
    "    if b == '1':\n",
    "        return '남성'\n",
    "    else:\n",
    "        return '여성'"
   ]
  },
  {
   "cell_type": "code",
   "execution_count": 322,
   "id": "56e77168",
   "metadata": {},
   "outputs": [
    {
     "name": "stdout",
     "output_type": "stream",
     "text": [
      "주민등록번호 입력 (- 포함): 820327-1022421\n"
     ]
    },
    {
     "data": {
      "text/plain": [
       "'남성'"
      ]
     },
     "execution_count": 322,
     "metadata": {},
     "output_type": "execute_result"
    }
   ],
   "source": [
    "gender()"
   ]
  },
  {
   "cell_type": "code",
   "execution_count": 331,
   "id": "59c60156",
   "metadata": {},
   "outputs": [
    {
     "name": "stdout",
     "output_type": "stream",
     "text": [
      "2\n"
     ]
    },
    {
     "data": {
      "text/plain": [
       "'여성'"
      ]
     },
     "execution_count": 331,
     "metadata": {},
     "output_type": "execute_result"
    }
   ],
   "source": [
    "jumin('820327-2022421')"
   ]
  },
  {
   "cell_type": "markdown",
   "id": "c50f9d61",
   "metadata": {},
   "source": [
    "## phones = {\"s5\" : 2014, \"s7\" : 2016, \"note8\" : 2017, \"s9\" : 2018, \"s10\" : 2019}\n",
    "입력 \"s5\"\n",
    "반환 2014\n",
    "\n",
    "입력 \"s7\"\n",
    "반환 2016"
   ]
  },
  {
   "cell_type": "code",
   "execution_count": 279,
   "id": "29e28a4e",
   "metadata": {},
   "outputs": [],
   "source": [
    "def phone_year():\n",
    "    a = input('기종 입력: ')\n",
    "    phones = {\"s5\" : 2014, \"s7\" : 2016, \"note8\" : 2017, \"s9\" : 2018, \"s10\" : 2019}\n",
    "    return phones[a]\n",
    "#     phones.get(a)"
   ]
  },
  {
   "cell_type": "code",
   "execution_count": 280,
   "id": "abc88d2d",
   "metadata": {},
   "outputs": [
    {
     "name": "stdout",
     "output_type": "stream",
     "text": [
      "기종 입력: s5\n"
     ]
    },
    {
     "data": {
      "text/plain": [
       "2014"
      ]
     },
     "execution_count": 280,
     "metadata": {},
     "output_type": "execute_result"
    }
   ],
   "source": [
    "phone_year()"
   ]
  },
  {
   "cell_type": "markdown",
   "id": "428dbdc4",
   "metadata": {},
   "source": [
    "## 입력 010-3222-1234\n",
    "## 반환 010-3222-####"
   ]
  },
  {
   "cell_type": "code",
   "execution_count": 289,
   "id": "77a450e2",
   "metadata": {},
   "outputs": [],
   "source": [
    "def phone_num():\n",
    "    a = input('휴대전화 번호 입력: ')\n",
    "    return a.replace(a[-4:],'####')"
   ]
  },
  {
   "cell_type": "code",
   "execution_count": 349,
   "id": "bcb176e0",
   "metadata": {},
   "outputs": [],
   "source": [
    "def phone_num2():\n",
    "    a = input('휴대전화 번호 입력: ')\n",
    "    b = a.split ('-')\n",
    "    b[2]='####'\n",
    "    return (\"-\".join(b))"
   ]
  },
  {
   "cell_type": "code",
   "execution_count": 290,
   "id": "3ad2a888",
   "metadata": {},
   "outputs": [
    {
     "name": "stdout",
     "output_type": "stream",
     "text": [
      "휴대전화 번호 입력: 010-3222-1234\n"
     ]
    },
    {
     "data": {
      "text/plain": [
       "'010-3222-####'"
      ]
     },
     "execution_count": 290,
     "metadata": {},
     "output_type": "execute_result"
    }
   ],
   "source": [
    "phone_num()"
   ]
  },
  {
   "cell_type": "code",
   "execution_count": 350,
   "id": "252bcd49",
   "metadata": {},
   "outputs": [
    {
     "name": "stdout",
     "output_type": "stream",
     "text": [
      "휴대전화 번호 입력: 010-3222-1234\n"
     ]
    },
    {
     "data": {
      "text/plain": [
       "'010-3222-####'"
      ]
     },
     "execution_count": 350,
     "metadata": {},
     "output_type": "execute_result"
    }
   ],
   "source": [
    "phone_num2()"
   ]
  },
  {
   "cell_type": "markdown",
   "id": "208bbbec",
   "metadata": {},
   "source": [
    "## replace, split"
   ]
  },
  {
   "cell_type": "code",
   "execution_count": 293,
   "id": "92661076",
   "metadata": {},
   "outputs": [],
   "source": [
    "a = '탑,정글,미드,원딜,서폿'"
   ]
  },
  {
   "cell_type": "code",
   "execution_count": 357,
   "id": "14191e3d",
   "metadata": {},
   "outputs": [
    {
     "data": {
      "text/plain": [
       "['탑', '정글', '미드', '원딜', '서폿']"
      ]
     },
     "execution_count": 357,
     "metadata": {},
     "output_type": "execute_result"
    }
   ],
   "source": [
    "a.split(',')"
   ]
  },
  {
   "cell_type": "code",
   "execution_count": 301,
   "id": "9ec0831b",
   "metadata": {},
   "outputs": [
    {
     "data": {
      "text/plain": [
       "'탑,정글,미드,바텀,서폿'"
      ]
     },
     "execution_count": 301,
     "metadata": {},
     "output_type": "execute_result"
    }
   ],
   "source": [
    "a.replace('원딜','바텀')"
   ]
  }
 ],
 "metadata": {
  "kernelspec": {
   "display_name": "Python 3 (ipykernel)",
   "language": "python",
   "name": "python3"
  },
  "language_info": {
   "codemirror_mode": {
    "name": "ipython",
    "version": 3
   },
   "file_extension": ".py",
   "mimetype": "text/x-python",
   "name": "python",
   "nbconvert_exporter": "python",
   "pygments_lexer": "ipython3",
   "version": "3.9.13"
  }
 },
 "nbformat": 4,
 "nbformat_minor": 5
}
