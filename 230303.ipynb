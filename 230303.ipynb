{
 "cells": [
  {
   "cell_type": "code",
   "execution_count": 7,
   "id": "87e430f2",
   "metadata": {},
   "outputs": [
    {
     "data": {
      "text/plain": [
       "str"
      ]
     },
     "execution_count": 7,
     "metadata": {},
     "output_type": "execute_result"
    }
   ],
   "source": [
    "type(\"5\")"
   ]
  },
  {
   "cell_type": "code",
   "execution_count": 6,
   "id": "ea2dc80a",
   "metadata": {},
   "outputs": [
    {
     "data": {
      "text/plain": [
       "int"
      ]
     },
     "execution_count": 6,
     "metadata": {},
     "output_type": "execute_result"
    }
   ],
   "source": [
    "type(5)"
   ]
  },
  {
   "cell_type": "code",
   "execution_count": 14,
   "id": "493cb189",
   "metadata": {},
   "outputs": [
    {
     "ename": "TypeError",
     "evalue": "can only concatenate str (not \"int\") to str",
     "output_type": "error",
     "traceback": [
      "\u001b[1;31m---------------------------------------------------------------------------\u001b[0m",
      "\u001b[1;31mTypeError\u001b[0m                                 Traceback (most recent call last)",
      "\u001b[1;32m~\\AppData\\Local\\Temp\\ipykernel_7408\\855397146.py\u001b[0m in \u001b[0;36m<module>\u001b[1;34m\u001b[0m\n\u001b[1;32m----> 1\u001b[1;33m \u001b[1;34m\"3\"\u001b[0m \u001b[1;33m+\u001b[0m \u001b[1;36m5\u001b[0m\u001b[1;33m\u001b[0m\u001b[1;33m\u001b[0m\u001b[0m\n\u001b[0m",
      "\u001b[1;31mTypeError\u001b[0m: can only concatenate str (not \"int\") to str"
     ]
    }
   ],
   "source": [
    "\"3\" + 5"
   ]
  },
  {
   "cell_type": "code",
   "execution_count": 12,
   "id": "54e334fa",
   "metadata": {},
   "outputs": [],
   "source": [
    "a = 'hello'\n",
    "b = 13\n",
    "c = 3.0"
   ]
  },
  {
   "cell_type": "code",
   "execution_count": 15,
   "id": "ae26861d",
   "metadata": {},
   "outputs": [],
   "source": [
    "a = 'world'"
   ]
  },
  {
   "cell_type": "code",
   "execution_count": 16,
   "id": "d958d56e",
   "metadata": {},
   "outputs": [
    {
     "data": {
      "text/plain": [
       "'world'"
      ]
     },
     "execution_count": 16,
     "metadata": {},
     "output_type": "execute_result"
    }
   ],
   "source": [
    "a"
   ]
  },
  {
   "cell_type": "code",
   "execution_count": 13,
   "id": "8dce0a3d",
   "metadata": {},
   "outputs": [
    {
     "data": {
      "text/plain": [
       "int"
      ]
     },
     "execution_count": 13,
     "metadata": {},
     "output_type": "execute_result"
    }
   ],
   "source": [
    "type(b)"
   ]
  },
  {
   "cell_type": "code",
   "execution_count": 24,
   "id": "3224550b",
   "metadata": {},
   "outputs": [
    {
     "name": "stdout",
     "output_type": "stream",
     "text": [
      "797 797\n"
     ]
    }
   ],
   "source": [
    "x, y = 0, 797\n",
    "x = y\n",
    "print (x, y)"
   ]
  },
  {
   "cell_type": "code",
   "execution_count": 25,
   "id": "9679cbb3",
   "metadata": {},
   "outputs": [
    {
     "data": {
      "text/plain": [
       "(2769248140080, 2769248140080)"
      ]
     },
     "execution_count": 25,
     "metadata": {},
     "output_type": "execute_result"
    }
   ],
   "source": [
    "id(x),id(y)"
   ]
  },
  {
   "cell_type": "code",
   "execution_count": 27,
   "id": "6b343fff",
   "metadata": {},
   "outputs": [
    {
     "name": "stdout",
     "output_type": "stream",
     "text": [
      "자신의 나이를 적어주세요1234\n"
     ]
    }
   ],
   "source": [
    "age = input('자신의 나이를 적어주세요')"
   ]
  },
  {
   "cell_type": "code",
   "execution_count": 28,
   "id": "24355f2c",
   "metadata": {},
   "outputs": [
    {
     "data": {
      "text/plain": [
       "'1234'"
      ]
     },
     "execution_count": 28,
     "metadata": {},
     "output_type": "execute_result"
    }
   ],
   "source": [
    "age"
   ]
  },
  {
   "cell_type": "code",
   "execution_count": 41,
   "id": "49b7ad12",
   "metadata": {},
   "outputs": [
    {
     "name": "stdout",
     "output_type": "stream",
     "text": [
      "sum= 55\n"
     ]
    }
   ],
   "source": [
    "sum = 0\n",
    "for i in range(1,11):\n",
    "    sum +=i\n",
    "print(\"sum=\",sum)"
   ]
  },
  {
   "cell_type": "code",
   "execution_count": 63,
   "id": "e0c56df4",
   "metadata": {},
   "outputs": [],
   "source": [
    "num_list=[1,2,3,4,5,6,7,8,'9',10,[11,12,13,14]] #list"
   ]
  },
  {
   "cell_type": "code",
   "execution_count": 74,
   "id": "6d3539fe",
   "metadata": {},
   "outputs": [
    {
     "data": {
      "text/plain": [
       "[11, 12, 13, 14]"
      ]
     },
     "execution_count": 74,
     "metadata": {},
     "output_type": "execute_result"
    }
   ],
   "source": [
    "num_list[-1]"
   ]
  },
  {
   "cell_type": "code",
   "execution_count": 86,
   "id": "c3c233d5",
   "metadata": {},
   "outputs": [
    {
     "data": {
      "text/plain": [
       "[11, 12, 13]"
      ]
     },
     "execution_count": 86,
     "metadata": {},
     "output_type": "execute_result"
    }
   ],
   "source": [
    "num_list[-1][0:3] #슬라이싱"
   ]
  },
  {
   "cell_type": "code",
   "execution_count": 67,
   "id": "35a90201",
   "metadata": {},
   "outputs": [
    {
     "data": {
      "text/plain": [
       "11"
      ]
     },
     "execution_count": 67,
     "metadata": {},
     "output_type": "execute_result"
    }
   ],
   "source": [
    "len(num_list)"
   ]
  },
  {
   "cell_type": "code",
   "execution_count": 69,
   "id": "7c456efb",
   "metadata": {},
   "outputs": [],
   "source": [
    "num_list[0]='change'"
   ]
  },
  {
   "cell_type": "code",
   "execution_count": 92,
   "id": "c6a80404",
   "metadata": {},
   "outputs": [
    {
     "data": {
      "text/plain": [
       "[1, 1, 2, 3, 3, 3, 3, 4, 4, 5, 5, 6, 6, 7, 8]"
      ]
     },
     "execution_count": 92,
     "metadata": {},
     "output_type": "execute_result"
    }
   ],
   "source": [
    "num_list"
   ]
  },
  {
   "cell_type": "code",
   "execution_count": 87,
   "id": "e11890f2",
   "metadata": {},
   "outputs": [],
   "source": [
    "num_list.append('plus')"
   ]
  },
  {
   "cell_type": "code",
   "execution_count": 112,
   "id": "10b374c0",
   "metadata": {},
   "outputs": [],
   "source": [
    "num_list = [1,3,5,6,2,3,4,5,1,3,6,7,8,4,3]\n",
    "eng_list = ['a','d','e','h','t','y','q','p']"
   ]
  },
  {
   "cell_type": "code",
   "execution_count": 153,
   "id": "461309dd",
   "metadata": {},
   "outputs": [
    {
     "name": "stdout",
     "output_type": "stream",
     "text": [
      "[1, 3, 5, 6, 2, 3, 4, 5, 1, 3, 6, 7, 8, 4, 3]\n",
      "['a', 'd', 'e', 'h', 't', 'y', 'q']\n"
     ]
    }
   ],
   "source": [
    "print(num_list)\n",
    "print(eng_list)"
   ]
  },
  {
   "cell_type": "code",
   "execution_count": 95,
   "id": "798a3fbf",
   "metadata": {},
   "outputs": [],
   "source": [
    "eng_list.sort()"
   ]
  },
  {
   "cell_type": "code",
   "execution_count": 99,
   "id": "fd0d2722",
   "metadata": {},
   "outputs": [],
   "source": [
    "eng_list.reverse()"
   ]
  },
  {
   "cell_type": "code",
   "execution_count": 105,
   "id": "490ec565",
   "metadata": {},
   "outputs": [
    {
     "data": {
      "text/plain": [
       "4"
      ]
     },
     "execution_count": 105,
     "metadata": {},
     "output_type": "execute_result"
    }
   ],
   "source": [
    "eng_list.index('h')"
   ]
  },
  {
   "cell_type": "code",
   "execution_count": 143,
   "id": "8f454983",
   "metadata": {},
   "outputs": [],
   "source": [
    "eng_list.insert(2,'ㄹ')"
   ]
  },
  {
   "cell_type": "code",
   "execution_count": 148,
   "id": "f7217a54",
   "metadata": {},
   "outputs": [],
   "source": [
    "eng_list.remove('ㄹ')"
   ]
  },
  {
   "cell_type": "code",
   "execution_count": 151,
   "id": "f6824453",
   "metadata": {},
   "outputs": [],
   "source": [
    "a = eng_list.pop(-1) #리스트에서 빼서 저장"
   ]
  },
  {
   "cell_type": "code",
   "execution_count": 152,
   "id": "1f904e02",
   "metadata": {},
   "outputs": [
    {
     "data": {
      "text/plain": [
       "'p'"
      ]
     },
     "execution_count": 152,
     "metadata": {},
     "output_type": "execute_result"
    }
   ],
   "source": [
    "a"
   ]
  },
  {
   "cell_type": "code",
   "execution_count": 154,
   "id": "919dec8b",
   "metadata": {},
   "outputs": [
    {
     "data": {
      "text/plain": [
       "0"
      ]
     },
     "execution_count": 154,
     "metadata": {},
     "output_type": "execute_result"
    }
   ],
   "source": [
    "eng_list.count('p)') "
   ]
  },
  {
   "cell_type": "code",
   "execution_count": 155,
   "id": "68ce226f",
   "metadata": {},
   "outputs": [],
   "source": [
    "ㅁ = [1,2]\n",
    "ㅠ = [3,4,5]"
   ]
  },
  {
   "cell_type": "code",
   "execution_count": 156,
   "id": "e44198bf",
   "metadata": {},
   "outputs": [
    {
     "data": {
      "text/plain": [
       "[1, 2, 3, 4, 5]"
      ]
     },
     "execution_count": 156,
     "metadata": {},
     "output_type": "execute_result"
    }
   ],
   "source": [
    "ㅁ+ㅠ"
   ]
  },
  {
   "cell_type": "code",
   "execution_count": 165,
   "id": "85f8b984",
   "metadata": {},
   "outputs": [],
   "source": [
    "ㅁ.extend(ㅠ)"
   ]
  },
  {
   "cell_type": "code",
   "execution_count": 167,
   "id": "5f1924db",
   "metadata": {},
   "outputs": [
    {
     "data": {
      "text/plain": [
       "[1, 2, 3, 4, 5, 3, 4, 5, 3, 4, 5]"
      ]
     },
     "execution_count": 167,
     "metadata": {},
     "output_type": "execute_result"
    }
   ],
   "source": [
    "ㅁ"
   ]
  },
  {
   "cell_type": "code",
   "execution_count": null,
   "id": "ffd6d404",
   "metadata": {},
   "outputs": [],
   "source": [
    "## 3단 구구단 만들기"
   ]
  },
  {
   "cell_type": "code",
   "execution_count": 202,
   "id": "b1598d84",
   "metadata": {},
   "outputs": [],
   "source": [
    "three_list=[3 * i for i in range(1,10)]"
   ]
  },
  {
   "cell_type": "code",
   "execution_count": 197,
   "id": "4648dfa6",
   "metadata": {},
   "outputs": [
    {
     "data": {
      "text/plain": [
       "[3, 6, 9, 12, 15, 18, 21, 24, 27]"
      ]
     },
     "execution_count": 197,
     "metadata": {},
     "output_type": "execute_result"
    }
   ],
   "source": [
    "three_list=[]\n",
    "for i in range (1,10):\n",
    "    three_list.append(i*3)\n",
    "three_list"
   ]
  },
  {
   "cell_type": "code",
   "execution_count": 200,
   "id": "05e431f5",
   "metadata": {},
   "outputs": [
    {
     "data": {
      "text/plain": [
       "[[2, 4, 6, 8, 10, 12, 14, 16, 18],\n",
       " [3, 6, 9, 12, 15, 18, 21, 24, 27],\n",
       " [4, 8, 12, 16, 20, 24, 28, 32, 36],\n",
       " [5, 10, 15, 20, 25, 30, 35, 40, 45],\n",
       " [6, 12, 18, 24, 30, 36, 42, 48, 54],\n",
       " [7, 14, 21, 28, 35, 42, 49, 56, 63],\n",
       " [8, 16, 24, 32, 40, 48, 56, 64, 72],\n",
       " [9, 18, 27, 36, 45, 54, 63, 72, 81]]"
      ]
     },
     "execution_count": 200,
     "metadata": {},
     "output_type": "execute_result"
    }
   ],
   "source": [
    "dandan_list=[]\n",
    "for i in range(2,10):\n",
    "    dan_list=[]\n",
    "    for j in range (1,10):\n",
    "        dan_list.append(i*j)\n",
    "    dandan_list.append(dan_list)\n",
    "dandan_list"
   ]
  },
  {
   "cell_type": "markdown",
   "id": "7437d0d9",
   "metadata": {},
   "source": [
    "# 튜플(tuple)"
   ]
  },
  {
   "cell_type": "code",
   "execution_count": 212,
   "id": "01c1b410",
   "metadata": {},
   "outputs": [],
   "source": [
    "a = (1,2,3,4)\n",
    "b = (5,6)"
   ]
  },
  {
   "cell_type": "code",
   "execution_count": 211,
   "id": "89f0b790",
   "metadata": {},
   "outputs": [
    {
     "data": {
      "text/plain": [
       "(2, 3)"
      ]
     },
     "execution_count": 211,
     "metadata": {},
     "output_type": "execute_result"
    }
   ],
   "source": [
    "a[1:3]"
   ]
  },
  {
   "cell_type": "code",
   "execution_count": 213,
   "id": "141e3ee5",
   "metadata": {},
   "outputs": [
    {
     "data": {
      "text/plain": [
       "(1, 2, 3, 4, 5, 6)"
      ]
     },
     "execution_count": 213,
     "metadata": {},
     "output_type": "execute_result"
    }
   ],
   "source": [
    "a+b"
   ]
  },
  {
   "cell_type": "code",
   "execution_count": 216,
   "id": "819f1dfc",
   "metadata": {},
   "outputs": [
    {
     "data": {
      "text/plain": [
       "(1, 2, 3, 4, 1, 2, 3, 4, 1, 2, 3, 4)"
      ]
     },
     "execution_count": 216,
     "metadata": {},
     "output_type": "execute_result"
    }
   ],
   "source": [
    "a * 3"
   ]
  },
  {
   "cell_type": "code",
   "execution_count": 217,
   "id": "1e702e92",
   "metadata": {},
   "outputs": [
    {
     "data": {
      "text/plain": [
       "4"
      ]
     },
     "execution_count": 217,
     "metadata": {},
     "output_type": "execute_result"
    }
   ],
   "source": [
    "len(a)"
   ]
  },
  {
   "cell_type": "markdown",
   "id": "40f4c8ef",
   "metadata": {},
   "source": [
    "# 집합(set)"
   ]
  },
  {
   "cell_type": "code",
   "execution_count": 13,
   "id": "3413f835",
   "metadata": {},
   "outputs": [],
   "source": [
    "a = {1,2,3,4,5}\n",
    "b = {3,4,5,6,7}\n",
    "c = set([1,2,3,4,5,5,5,5,5])"
   ]
  },
  {
   "cell_type": "code",
   "execution_count": 226,
   "id": "731aa0c3",
   "metadata": {},
   "outputs": [
    {
     "data": {
      "text/plain": [
       "{1, 2, 3, 4, 5}"
      ]
     },
     "execution_count": 226,
     "metadata": {},
     "output_type": "execute_result"
    }
   ],
   "source": [
    "c"
   ]
  },
  {
   "cell_type": "code",
   "execution_count": 14,
   "id": "a24339a8",
   "metadata": {},
   "outputs": [
    {
     "data": {
      "text/plain": [
       "{3, 4, 5}"
      ]
     },
     "execution_count": 14,
     "metadata": {},
     "output_type": "execute_result"
    }
   ],
   "source": [
    "a & b #intersection\n",
    "a | b #union"
   ]
  },
  {
   "cell_type": "code",
   "execution_count": 231,
   "id": "06dca0be",
   "metadata": {},
   "outputs": [
    {
     "data": {
      "text/plain": [
       "{6, 7}"
      ]
     },
     "execution_count": 231,
     "metadata": {},
     "output_type": "execute_result"
    }
   ],
   "source": [
    "a-b\n",
    "b-a"
   ]
  },
  {
   "cell_type": "markdown",
   "id": "bd730378",
   "metadata": {},
   "source": [
    "# dictionary \n",
    "{key : value}"
   ]
  },
  {
   "cell_type": "code",
   "execution_count": 293,
   "id": "863dc5b7",
   "metadata": {},
   "outputs": [],
   "source": [
    "a=({'이름':'김시현','직장':'??'})"
   ]
  },
  {
   "cell_type": "code",
   "execution_count": 292,
   "id": "bee3c334",
   "metadata": {},
   "outputs": [
    {
     "data": {
      "text/plain": [
       "{}"
      ]
     },
     "execution_count": 292,
     "metadata": {},
     "output_type": "execute_result"
    }
   ],
   "source": [
    "a"
   ]
  },
  {
   "cell_type": "code",
   "execution_count": 273,
   "id": "613d8c88",
   "metadata": {},
   "outputs": [],
   "source": [
    "a['사는곳'] = '인천'"
   ]
  },
  {
   "cell_type": "code",
   "execution_count": 274,
   "id": "8a011b11",
   "metadata": {},
   "outputs": [],
   "source": [
    "a['좋아하는 음식'] = ['피자','치킨','마라탕']"
   ]
  },
  {
   "cell_type": "code",
   "execution_count": 276,
   "id": "23296a0e",
   "metadata": {},
   "outputs": [],
   "source": [
    "del a['좋아하는 음식']"
   ]
  },
  {
   "cell_type": "code",
   "execution_count": 281,
   "id": "0e85e982",
   "metadata": {},
   "outputs": [],
   "source": [
    "a['이름'] = '김쉬현'"
   ]
  },
  {
   "cell_type": "code",
   "execution_count": 282,
   "id": "989ff187",
   "metadata": {},
   "outputs": [
    {
     "data": {
      "text/plain": [
       "'김쉬현'"
      ]
     },
     "execution_count": 282,
     "metadata": {},
     "output_type": "execute_result"
    }
   ],
   "source": [
    "a.get('이름')"
   ]
  },
  {
   "cell_type": "code",
   "execution_count": 284,
   "id": "2938e60c",
   "metadata": {},
   "outputs": [
    {
     "data": {
      "text/plain": [
       "['이름', '직장', '사는곳']"
      ]
     },
     "execution_count": 284,
     "metadata": {},
     "output_type": "execute_result"
    }
   ],
   "source": [
    "list(a.keys())"
   ]
  },
  {
   "cell_type": "code",
   "execution_count": 285,
   "id": "f1358afe",
   "metadata": {},
   "outputs": [
    {
     "data": {
      "text/plain": [
       "dict_values(['김쉬현', '??', '인천'])"
      ]
     },
     "execution_count": 285,
     "metadata": {},
     "output_type": "execute_result"
    }
   ],
   "source": [
    "a.values()"
   ]
  },
  {
   "cell_type": "code",
   "execution_count": 289,
   "id": "5474de3e",
   "metadata": {},
   "outputs": [
    {
     "data": {
      "text/plain": [
       "[('이름', '김쉬현'), ('직장', '??'), ('사는곳', '인천')]"
      ]
     },
     "execution_count": 289,
     "metadata": {},
     "output_type": "execute_result"
    }
   ],
   "source": [
    "list(a.items())"
   ]
  },
  {
   "cell_type": "code",
   "execution_count": 291,
   "id": "5c1fe833",
   "metadata": {},
   "outputs": [],
   "source": [
    "a.clear()"
   ]
  },
  {
   "cell_type": "code",
   "execution_count": 294,
   "id": "3f6d1c24",
   "metadata": {},
   "outputs": [
    {
     "data": {
      "text/plain": [
       "False"
      ]
     },
     "execution_count": 294,
     "metadata": {},
     "output_type": "execute_result"
    }
   ],
   "source": [
    "'ㅇㅇㅇㅇ' in a"
   ]
  },
  {
   "cell_type": "code",
   "execution_count": 295,
   "id": "420e7c0d",
   "metadata": {},
   "outputs": [],
   "source": [
    "ice_dicts = {}\n",
    "icecream= ['서주아이스바','아맛나','바밤바','비비빅']"
   ]
  },
  {
   "cell_type": "markdown",
   "id": "0043a9f1",
   "metadata": {},
   "source": [
    "# for문을 사용해서 딕셔너리를 만들 것"
   ]
  },
  {
   "cell_type": "code",
   "execution_count": 336,
   "id": "4b4d0e73",
   "metadata": {},
   "outputs": [],
   "source": [
    "for i in range (len(icecream)):\n",
    "    ice_dicts[i]=icecream[i]"
   ]
  },
  {
   "cell_type": "code",
   "execution_count": 347,
   "id": "dc2a0c71",
   "metadata": {},
   "outputs": [],
   "source": [
    "ice_dicts={i:icecream[i] for i in range(len(icecream))}"
   ]
  },
  {
   "cell_type": "code",
   "execution_count": 340,
   "id": "fdf800f3",
   "metadata": {},
   "outputs": [
    {
     "data": {
      "text/plain": [
       "[(0, '서주아이스바'), (1, '아맛나'), (2, '바밤바'), (3, '비비빅')]"
      ]
     },
     "execution_count": 340,
     "metadata": {},
     "output_type": "execute_result"
    }
   ],
   "source": [
    "list(ice_dicts.items())"
   ]
  },
  {
   "cell_type": "code",
   "execution_count": 348,
   "id": "1988145f",
   "metadata": {},
   "outputs": [
    {
     "data": {
      "text/plain": [
       "{0: '서주아이스바', 1: '아맛나', 2: '바밤바', 3: '비비빅'}"
      ]
     },
     "execution_count": 348,
     "metadata": {},
     "output_type": "execute_result"
    }
   ],
   "source": [
    "ice_dicts"
   ]
  },
  {
   "cell_type": "code",
   "execution_count": 15,
   "id": "97296cea",
   "metadata": {},
   "outputs": [
    {
     "name": "stdout",
     "output_type": "stream",
     "text": [
      "800원이 아님\n"
     ]
    }
   ],
   "source": [
    "a = 700\n",
    "\n",
    "if a== 1000:\n",
    "    print('천원이 있습니다.')\n",
    "elif a != 800:\n",
    "    print('800원이 아님')    \n",
    "else:\n",
    "    print('돈이 없습니다.')"
   ]
  },
  {
   "cell_type": "code",
   "execution_count": 16,
   "id": "1e3c6ea8",
   "metadata": {},
   "outputs": [
    {
     "data": {
      "text/plain": [
       "False"
      ]
     },
     "execution_count": 16,
     "metadata": {},
     "output_type": "execute_result"
    }
   ],
   "source": [
    "a != 700"
   ]
  },
  {
   "cell_type": "code",
   "execution_count": 17,
   "id": "0392d210",
   "metadata": {},
   "outputs": [
    {
     "name": "stdout",
     "output_type": "stream",
     "text": [
      "돈이 있다.\n"
     ]
    }
   ],
   "source": [
    "money = '100'\n",
    "if money:\n",
    "    print('돈이 있다.')\n",
    "else:\n",
    "    print('돈이 없다.')"
   ]
  },
  {
   "cell_type": "code",
   "execution_count": 359,
   "id": "01c38726",
   "metadata": {},
   "outputs": [
    {
     "name": "stdout",
     "output_type": "stream",
     "text": [
      "숫자가 없어요\n"
     ]
    }
   ],
   "source": [
    "money_list = [100,200,300]\n",
    "if 400 not in money_list:\n",
    "    print('숫자가 없어요')\n",
    "else:\n",
    "    print('숫자가 있어요')"
   ]
  },
  {
   "cell_type": "code",
   "execution_count": 363,
   "id": "5851ab5f",
   "metadata": {},
   "outputs": [
    {
     "name": "stdout",
     "output_type": "stream",
     "text": [
      "맞음\n"
     ]
    }
   ],
   "source": [
    "if 100 in money_list or 400 in money_list:\n",
    "    print('맞음')\n",
    "else:\n",
    "    print('틀림')"
   ]
  },
  {
   "cell_type": "markdown",
   "id": "ddc3f4f1",
   "metadata": {},
   "source": [
    "# if문,i nput 함수 사용 받은 점수가\n",
    "## 100점일 경우 A\n",
    "## 90~99 B\n",
    "## 80~89 C\n",
    "## 70~79 D\n",
    "## 나머지 F\n",
    "## print로 어떤 학점이 나오는지"
   ]
  },
  {
   "cell_type": "code",
   "execution_count": 20,
   "id": "2a2d081c",
   "metadata": {},
   "outputs": [
    {
     "name": "stdout",
     "output_type": "stream",
     "text": [
      "점수를 입력하세요 89\n",
      "C 학점\n"
     ]
    }
   ],
   "source": [
    "a=int(input('점수를 입력하세요 '))\n",
    "\n",
    "if  a == 100:\n",
    "    print ('A 학점')\n",
    "elif a>100 or a<0:\n",
    "    print ('즐')\n",
    "elif 90 <= a :\n",
    "    print ('B 학점')\n",
    "elif 80 <= a :\n",
    "    print ('C 학점')\n",
    "elif 70 <= a :\n",
    "    print ('D 학점')\n",
    "else:\n",
    "    print ('F 학점')"
   ]
  }
 ],
 "metadata": {
  "kernelspec": {
   "display_name": "Python 3 (ipykernel)",
   "language": "python",
   "name": "python3"
  },
  "language_info": {
   "codemirror_mode": {
    "name": "ipython",
    "version": 3
   },
   "file_extension": ".py",
   "mimetype": "text/x-python",
   "name": "python",
   "nbconvert_exporter": "python",
   "pygments_lexer": "ipython3",
   "version": "3.9.13"
  }
 },
 "nbformat": 4,
 "nbformat_minor": 5
}
